{
  "nbformat": 4,
  "nbformat_minor": 0,
  "metadata": {
    "colab": {
      "name": "Treinamento_IA_digitos.ipynb",
      "provenance": [],
      "authorship_tag": "ABX9TyNzCDZwAUmJBpbygvxQpS9F",
      "include_colab_link": true
    },
    "kernelspec": {
      "name": "python3",
      "display_name": "Python 3"
    },
    "accelerator": "GPU"
  },
  "cells": [
    {
      "cell_type": "markdown",
      "metadata": {
        "id": "view-in-github",
        "colab_type": "text"
      },
      "source": [
        "<a href=\"https://colab.research.google.com/github/Farivini/Api_reconhecimento_de_digitos/blob/main/Treinamento_IA_digitos.ipynb\" target=\"_parent\"><img src=\"https://colab.research.google.com/assets/colab-badge.svg\" alt=\"Open In Colab\"/></a>"
      ]
    },
    {
      "cell_type": "markdown",
      "metadata": {
        "id": "WN9sHVUPpFJa"
      },
      "source": [
        "# *Codigo de Classificação de digitos e exploração de dados*\n",
        "### Vinicius farineli freire\n",
        "#### Meu [Linkedin](https://)"
      ]
    },
    {
      "cell_type": "code",
      "metadata": {
        "id": "60MbX8_mb7pa"
      },
      "source": [
        "\n",
        "\n",
        "import matplotlib.pyplot as plt\n",
        "from keras.datasets import mnist"
      ],
      "execution_count": null,
      "outputs": []
    },
    {
      "cell_type": "markdown",
      "metadata": {
        "id": "gWFTP5Kx6QL8"
      },
      "source": [
        "Optei por importar keras que ja disponibiliza este datasets, para carregar a base de dados e fazer esse treinamento do modelo."
      ]
    },
    {
      "cell_type": "markdown",
      "metadata": {
        "id": "Wq99F_QQ8ezB"
      },
      "source": [
        "Declaramos variaveis de teste e para treino desse modelo\n",
        "que no final vamos salvar.\n",
        "\n",
        "Esse datasets ira retornar duas tuplas, para realizarmos os testes."
      ]
    },
    {
      "cell_type": "code",
      "metadata": {
        "id": "-8GvQq576Pv_",
        "outputId": "b2137cb6-0c34-43d1-9b17-511bae65f641",
        "colab": {
          "base_uri": "https://localhost:8080/",
          "height": 51
        }
      },
      "source": [
        "(x_original, y_original),(x_teste, y_teste) = mnist.load_data()"
      ],
      "execution_count": null,
      "outputs": [
        {
          "output_type": "stream",
          "text": [
            "Downloading data from https://storage.googleapis.com/tensorflow/tf-keras-datasets/mnist.npz\n",
            "11493376/11490434 [==============================] - 0s 0us/step\n"
          ],
          "name": "stdout"
        }
      ]
    },
    {
      "cell_type": "markdown",
      "metadata": {
        "id": "gPX9Okcv9_mf"
      },
      "source": [
        "*Agora analisamos as dimensões , para poder ver o tamanho e com o que estamos \n",
        "trabalhando*"
      ]
    },
    {
      "cell_type": "code",
      "metadata": {
        "id": "uIbOPnCv9_Re"
      },
      "source": [
        ""
      ],
      "execution_count": null,
      "outputs": []
    },
    {
      "cell_type": "code",
      "metadata": {
        "id": "1saLC7jO-R9q",
        "outputId": "88074c22-061c-47ac-f8a9-4edad9e80c51",
        "colab": {
          "base_uri": "https://localhost:8080/",
          "height": 34
        }
      },
      "source": [
        "print(\"x_original\", x_original.shape)"
      ],
      "execution_count": null,
      "outputs": [
        {
          "output_type": "stream",
          "text": [
            "x_original (60000, 28, 28)\n"
          ],
          "name": "stdout"
        }
      ]
    },
    {
      "cell_type": "markdown",
      "metadata": {
        "id": "XJl5OWiY_fyS"
      },
      "source": [
        "**Aqui conseguimos analisar que partimos de 60000 entradas \n",
        "com dimensionalidade de 28 por 28 pixel** "
      ]
    },
    {
      "cell_type": "markdown",
      "metadata": {
        "id": "sw4Wquiw_zXD"
      },
      "source": [
        "Agora repetimos  para ver as outras variaveis."
      ]
    },
    {
      "cell_type": "code",
      "metadata": {
        "id": "sHR5nWrP_-2O",
        "outputId": "f49339c1-bec9-4aa7-9c6a-fee73d3aa0a3",
        "colab": {
          "base_uri": "https://localhost:8080/",
          "height": 68
        }
      },
      "source": [
        "print(\"y_original\", y_original.shape)\n",
        "print(\"x_teste\", x_teste.shape)\n",
        "print(\"y_teste\", y_teste.shape)"
      ],
      "execution_count": null,
      "outputs": [
        {
          "output_type": "stream",
          "text": [
            "y_original (60000,)\n",
            "x_teste (10000, 28, 28)\n",
            "y_teste (10000,)\n"
          ],
          "name": "stdout"
        }
      ]
    },
    {
      "cell_type": "code",
      "metadata": {
        "id": "wPNIoD0lBIsw"
      },
      "source": [
        ""
      ],
      "execution_count": null,
      "outputs": []
    },
    {
      "cell_type": "markdown",
      "metadata": {
        "id": "QgJCM2MwCqzG"
      },
      "source": [
        "**Aqui ja conseguimos ter uma dimensão da quantidade para treino**\n",
        "\n",
        "*10000 para fazer esse 'treino' da maquina.*"
      ]
    },
    {
      "cell_type": "markdown",
      "metadata": {
        "id": "eTqT91coDKVe"
      },
      "source": [
        "Pesquisei um pouco para fazer a normalização ou padronizar o modelo , e optei por fazer essa otimização baseada em gradiente.\n",
        "\n",
        "[Verificar esse link sobre gradiente em numpy](http://pageperso.lif.univ-mrs.fr/~francois.denis/IAAM1/numpy-html-1.14.0/reference/generated/numpy.gradient.html)"
      ]
    },
    {
      "cell_type": "code",
      "metadata": {
        "id": "4jFY3OlQVON9"
      },
      "source": [
        "# Pego apenas 10% podendo ser mais ou menos e logo em seguida sim faço a parte do treino \n",
        "\n",
        "x_validacao, x_treino = x_original[:6000] / 255.0, x_original[6000:] / 255.0\n",
        "y_validacao, y_treino = y_original[:6000], y_original[6000:]"
      ],
      "execution_count": null,
      "outputs": []
    },
    {
      "cell_type": "code",
      "metadata": {
        "id": "ifxD3eWhD20q"
      },
      "source": [
        "import numpy as np\n"
      ],
      "execution_count": null,
      "outputs": []
    },
    {
      "cell_type": "code",
      "metadata": {
        "id": "Aw8K9lP0EEmX"
      },
      "source": [
        "# Padronizar e criar a classificação\n",
        "class_names = ['Zero','Um', 'Dois', 'Três', 'Quatro', 'Cinco', 'Seis', 'Sete', 'Oito', 'Nove']"
      ],
      "execution_count": null,
      "outputs": []
    },
    {
      "cell_type": "code",
      "metadata": {
        "id": "8taOZqoCW-2p",
        "outputId": "ef783161-8c56-497a-f6d7-50769a2f3759",
        "colab": {
          "base_uri": "https://localhost:8080/",
          "height": 34
        }
      },
      "source": [
        "# Primeiro ele retorna um array indicando os indices dos 10 primeiras imagens do datasets\n",
        "# Classe ela identifica pra mim, e retorna qual classe ela pertence\n",
        "\n",
        "\n",
        "y_validacao[:10]\n"
      ],
      "execution_count": null,
      "outputs": [
        {
          "output_type": "execute_result",
          "data": {
            "text/plain": [
              "array([5, 0, 4, 1, 9, 2, 1, 3, 1, 4], dtype=uint8)"
            ]
          },
          "metadata": {
            "tags": []
          },
          "execution_count": 9
        }
      ]
    },
    {
      "cell_type": "code",
      "metadata": {
        "id": "dElN_VxMZbDY",
        "outputId": "b4e40270-fccc-43ad-abef-97bda408ba18",
        "colab": {
          "base_uri": "https://localhost:8080/",
          "height": 34
        }
      },
      "source": [
        "y_treino[:10]"
      ],
      "execution_count": null,
      "outputs": [
        {
          "output_type": "execute_result",
          "data": {
            "text/plain": [
              "array([6, 0, 1, 1, 5, 2, 8, 3, 0, 4], dtype=uint8)"
            ]
          },
          "metadata": {
            "tags": []
          },
          "execution_count": 10
        }
      ]
    },
    {
      "cell_type": "code",
      "metadata": {
        "id": "yv26Z5O9YKZh",
        "outputId": "defa1bac-57e5-4509-e3c6-4b3a512f1caf",
        "colab": {
          "base_uri": "https://localhost:8080/",
          "height": 282
        }
      },
      "source": [
        "plt.imshow(x_original[0])"
      ],
      "execution_count": null,
      "outputs": [
        {
          "output_type": "execute_result",
          "data": {
            "text/plain": [
              "<matplotlib.image.AxesImage at 0x7f5948db3438>"
            ]
          },
          "metadata": {
            "tags": []
          },
          "execution_count": 11
        },
        {
          "output_type": "display_data",
          "data": {
            "image/png": "[encoded data removed]",
            "text/plain": [
              "<Figure size 432x288 with 1 Axes>"
            ]
          },
          "metadata": {
            "tags": [],
            "needs_background": "light"
          }
        }
      ]
    },
    {
      "cell_type": "markdown",
      "metadata": {
        "id": "mrZ1J-80ZtzU"
      },
      "source": [
        "Nesse momento existe a possibilidade de treinar este modelo assim, Porem não alcançaria um score ou uma acertatividade boa.\n",
        "\n",
        "**Fui Pesquisar como melhorar essas imagens, então encontrei as funções cmap e interpolation. Interpolation você encontra nesse [Link](https://docs.scipy.org/doc/scipy/reference/tutorial/interpolate.html)**\n",
        "\n",
        "\n",
        "**E Cmap neste aqui [Link](https://matplotlib.org/3.1.0/tutorials/colors/colormaps.html)** "
      ]
    },
    {
      "cell_type": "code",
      "metadata": {
        "id": "SbzX51PMaDe8"
      },
      "source": [
        ""
      ],
      "execution_count": null,
      "outputs": []
    },
    {
      "cell_type": "code",
      "metadata": {
        "id": "gq623s9taGAw",
        "outputId": "e1752dd0-7bdc-470a-be73-d337e6db309c",
        "colab": {
          "base_uri": "https://localhost:8080/",
          "height": 265
        }
      },
      "source": [
        "plt.imshow(x_original[0], cmap='gray', interpolation='bicubic');"
      ],
      "execution_count": null,
      "outputs": [
        {
          "output_type": "display_data",
          "data": {
            "image/png": "[encoded data removed]",
            "text/plain": [
              "<Figure size 432x288 with 1 Axes>"
            ]
          },
          "metadata": {
            "tags": [],
            "needs_background": "light"
          }
        }
      ]
    },
    {
      "cell_type": "code",
      "metadata": {
        "id": "jSAlJmHbf8PR",
        "outputId": "01efa801-edc6-4101-acf8-4cda915c0a9f",
        "colab": {
          "base_uri": "https://localhost:8080/",
          "height": 399
        }
      },
      "source": [
        "# Podemos analisar e ver mais imagens como exemplo\n",
        "plt.figure(figsize=(10,10))\n",
        "\n",
        "for i in range (5):\n",
        "  # subplot informa quantas linhas e quantas colunas e qual vou querer acessar\n",
        "  plt.subplot(5, 3, i+1) \n",
        "  \n",
        "  #trabalhar eixos        \n",
        "  plt.xticks([])\n",
        "  plt.yticks([])\n",
        "\n",
        "  #sem grid\n",
        "  plt.grid(False) \n",
        "  plt.imshow(x_treino[i], cmap=plt.cm.binary)\n",
        "  plt.xlabel(class_names[y_treino[i]])\n",
        "  plt.show()\n"
      ],
      "execution_count": null,
      "outputs": [
        {
          "output_type": "display_data",
          "data": {
            "image/png": "[encoded data removed]",
            "text/plain": [
              "<Figure size 720x720 with 1 Axes>"
            ]
          },
          "metadata": {
            "tags": []
          }
        },
        {
          "output_type": "display_data",
          "data": {
            "image/png": "[encoded data removed]",
            "text/plain": [
              "<Figure size 432x288 with 1 Axes>"
            ]
          },
          "metadata": {
            "tags": []
          }
        },
        {
          "output_type": "display_data",
          "data": {
            "image/png": "[encoded data removed]",
            "text/plain": [
              "<Figure size 432x288 with 1 Axes>"
            ]
          },
          "metadata": {
            "tags": []
          }
        },
        {
          "output_type": "display_data",
          "data": {
            "image/png": "[encoded data removed]",
            "text/plain": [
              "<Figure size 432x288 with 1 Axes>"
            ]
          },
          "metadata": {
            "tags": []
          }
        },
        {
          "output_type": "display_data",
          "data": {
            "image/png": "[encoded data removed]",
            "text/plain": [
              "<Figure size 432x288 with 1 Axes>"
            ]
          },
          "metadata": {
            "tags": []
          }
        }
      ]
    },
    {
      "cell_type": "markdown",
      "metadata": {
        "id": "gojWnFnumaT0"
      },
      "source": [
        "Optei por criar um modelo simples do tipo Hidden Layer"
      ]
    },
    {
      "cell_type": "code",
      "metadata": {
        "id": "lqS1Ufl6mm6L"
      },
      "source": [
        "from tensorflow import keras\n",
        "import tensorflow as tf\n",
        "\n",
        "modelo = keras.models.Sequential()\n",
        "modelo.add(keras.layers.Flatten())\n",
        "modelo.add(tf.keras.layers.Dense(units=128, activation=tf.nn.relu))\n",
        "modelo.add(tf.keras.layers.Dense(units=128, activation=tf.nn.relu))\n",
        "modelo.add(tf.keras.layers.Dense(units=10, activation=tf.nn.softmax))"
      ],
      "execution_count": null,
      "outputs": []
    },
    {
      "cell_type": "markdown",
      "metadata": {
        "id": "heKq7gJkPdW0"
      },
      "source": [
        "![partes de ativação sigmoid e softmax.png](data:image/png;base64,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)"
      ]
    },
    {
      "cell_type": "markdown",
      "metadata": {
        "id": "U9h9H-DuPoNi"
      },
      "source": [
        "**Fui atrás de uma ativação para o modelo que decidi que deveria ser squencial por ser mais simples**\n",
        " \n",
        "*A imagem acima explica as duas funções usadas Relu e Softmax*"
      ]
    },
    {
      "cell_type": "code",
      "metadata": {
        "id": "PWlJN_paQNKK"
      },
      "source": [
        "#Nessa secção conseguimos ver a descrição da variavel modelo \n",
        "modelo.summary()"
      ],
      "execution_count": null,
      "outputs": []
    },
    {
      "cell_type": "markdown",
      "metadata": {
        "id": "ziiBcyn_TAUm"
      },
      "source": [
        " Breve explicação sobre o resumo apresentado\n",
        "\n",
        "\n",
        "1.   Layer representa as camadas envolvidas\n",
        "2.   Dense seria as camadas de filtragem propiamente ditas.\n",
        "\n"
      ]
    },
    {
      "cell_type": "code",
      "metadata": {
        "id": "93bFp5ObUGZ1"
      },
      "source": [
        "\"\"\" \n",
        "Aqui podemos ver aonde estão alocadas, antes não dava muito importancia para estrutura de dados \n",
        "Mas aqui podemos ate salvar em alguma variavel pra um reutilização.\n",
        "\n",
        "Ele retorna uma tupla com indices\n",
        "\"\"\"\n",
        "\n",
        "modelo.layers\n",
        "#Por exemplo atribuindo uma camada a uma variavel\n",
        "camada_primeira = modelo.layers[1]"
      ],
      "execution_count": null,
      "outputs": []
    },
    {
      "cell_type": "code",
      "metadata": {
        "id": "S7xn9_H3V6OH"
      },
      "source": [
        "# Podemos agora compilar nosso modelo que ja segue um padrão\n",
        "#modelo.compile(optimizer='sgd', loss = 'sparse_categorical_crossentropy', metrics='accuracy')\n",
        "modelo.compile(optimizer='adam', loss='sparse_categorical_crossentropy', metrics=['accuracy'])"
      ],
      "execution_count": null,
      "outputs": []
    },
    {
      "cell_type": "code",
      "metadata": {
        "id": "gTliybMDWwTo",
        "outputId": "8eb392cb-39e0-4239-989a-950121903985",
        "colab": {
          "base_uri": "https://localhost:8080/",
          "height": 136
        }
      },
      "source": [
        "#Da mesma forma que tem no sckitilearn possui o modo fit\n",
        "#modelo.fit(x_treino, y_treino, epochs=3, validation_data=(x_validacao, y_validacao))\n",
        "modelo.fit(x_treino, y_treino, epochs=3)"
      ],
      "execution_count": null,
      "outputs": [
        {
          "output_type": "stream",
          "text": [
            "Epoch 1/3\n",
            "1688/1688 [==============================] - 3s 2ms/step - loss: 0.2385 - accuracy: 0.9291\n",
            "Epoch 2/3\n",
            "1688/1688 [==============================] - 3s 2ms/step - loss: 0.1031 - accuracy: 0.9679\n",
            "Epoch 3/3\n",
            "1688/1688 [==============================] - 3s 2ms/step - loss: 0.0695 - accuracy: 0.9783\n"
          ],
          "name": "stdout"
        },
        {
          "output_type": "execute_result",
          "data": {
            "text/plain": [
              "<tensorflow.python.keras.callbacks.History at 0x7f58c52e8748>"
            ]
          },
          "metadata": {
            "tags": []
          },
          "execution_count": 73
        }
      ]
    },
    {
      "cell_type": "markdown",
      "metadata": {
        "id": "-WvYTcEiYXKK"
      },
      "source": [
        "##Obviamente podemos melhorar o valor da 'accuracy' acertividade\n",
        "atribuindo mais neuronios ou camadas para fazer o pre processamento.\n",
        "\n",
        "Pra avaliar melhor como a rede está se saindo podemos atribuir o processamento \n",
        "a uma variavel."
      ]
    },
    {
      "cell_type": "code",
      "metadata": {
        "id": "LwwwS9xtZ0ps",
        "outputId": "bc83892c-6f2e-4f17-f340-81cb104a49a2",
        "colab": {
          "base_uri": "https://localhost:8080/",
          "height": 377
        }
      },
      "source": [
        "historico_treino = modelo.fit(x_treino, y_treino, epochs=10, validation_data=(x_validacao, y_validacao))"
      ],
      "execution_count": null,
      "outputs": [
        {
          "output_type": "stream",
          "text": [
            "Epoch 1/10\n",
            "1688/1688 [==============================] - 3s 2ms/step - loss: 0.3292 - accuracy: 0.9053 - val_loss: 0.3063 - val_accuracy: 0.9133\n",
            "Epoch 2/10\n",
            "1688/1688 [==============================] - 3s 2ms/step - loss: 0.3238 - accuracy: 0.9073 - val_loss: 0.3047 - val_accuracy: 0.9113\n",
            "Epoch 3/10\n",
            "1688/1688 [==============================] - 3s 2ms/step - loss: 0.3195 - accuracy: 0.9089 - val_loss: 0.2977 - val_accuracy: 0.9162\n",
            "Epoch 4/10\n",
            "1688/1688 [==============================] - 3s 2ms/step - loss: 0.3153 - accuracy: 0.9090 - val_loss: 0.2963 - val_accuracy: 0.9172\n",
            "Epoch 5/10\n",
            "1688/1688 [==============================] - 3s 2ms/step - loss: 0.3117 - accuracy: 0.9109 - val_loss: 0.2924 - val_accuracy: 0.9165\n",
            "Epoch 6/10\n",
            "1688/1688 [==============================] - 3s 2ms/step - loss: 0.3084 - accuracy: 0.9116 - val_loss: 0.2910 - val_accuracy: 0.9205\n",
            "Epoch 7/10\n",
            "1688/1688 [==============================] - 3s 2ms/step - loss: 0.3056 - accuracy: 0.9120 - val_loss: 0.2902 - val_accuracy: 0.9197\n",
            "Epoch 8/10\n",
            "1688/1688 [==============================] - 3s 2ms/step - loss: 0.3030 - accuracy: 0.9129 - val_loss: 0.2859 - val_accuracy: 0.9203\n",
            "Epoch 9/10\n",
            "1688/1688 [==============================] - 3s 2ms/step - loss: 0.3005 - accuracy: 0.9135 - val_loss: 0.2826 - val_accuracy: 0.9220\n",
            "Epoch 10/10\n",
            "1688/1688 [==============================] - 3s 2ms/step - loss: 0.2981 - accuracy: 0.9147 - val_loss: 0.2796 - val_accuracy: 0.9225\n"
          ],
          "name": "stdout"
        }
      ]
    },
    {
      "cell_type": "code",
      "metadata": {
        "id": "ouwRx8ySZJXU",
        "outputId": "94e3e354-99f6-4ea8-abac-fa4d4e3dd4b2",
        "colab": {
          "base_uri": "https://localhost:8080/",
          "height": 265
        }
      },
      "source": [
        "import pandas as pd\n",
        "\n",
        "\n",
        "pd.DataFrame(historico_treino.history).plot()\n",
        "plt.show()"
      ],
      "execution_count": null,
      "outputs": [
        {
          "output_type": "display_data",
          "data": {
            "image/png": "[encoded data removed]",
            "text/plain": [
              "<Figure size 432x288 with 1 Axes>"
            ]
          },
          "metadata": {
            "tags": [],
            "needs_background": "light"
          }
        }
      ]
    },
    {
      "cell_type": "markdown",
      "metadata": {
        "id": "-aOEtpd3biQr"
      },
      "source": [
        "###Basicamente o grafico mostra o que o Epoch nos mostra em numeros \n",
        "\n",
        "#Posso melhorar minha visualização pra ver aonde meu modelo pode estar confundindo e consequentemente tratar"
      ]
    },
    {
      "cell_type": "code",
      "metadata": {
        "id": "-lkNMNSSe6sT",
        "outputId": "d803fcfa-9835-4c5d-95ea-9bbf3d8d6cfa",
        "colab": {
          "base_uri": "https://localhost:8080/",
          "height": 717
        }
      },
      "source": [
        "modelo.compile(optimizer='adam', loss = 'sparse_categorical_crossentropy', metrics='accuracy')\n",
        "historico_melhorado = modelo.fit(x_treino, y_treino, epochs=20, validation_split=0.25)"
      ],
      "execution_count": null,
      "outputs": [
        {
          "output_type": "stream",
          "text": [
            "Epoch 1/20\n",
            "1266/1266 [==============================] - 3s 3ms/step - loss: 0.0016 - accuracy: 0.9996 - val_loss: 0.0507 - val_accuracy: 0.9896\n",
            "Epoch 2/20\n",
            "1266/1266 [==============================] - 3s 2ms/step - loss: 0.0025 - accuracy: 0.9992 - val_loss: 0.0697 - val_accuracy: 0.9860\n",
            "Epoch 3/20\n",
            "1266/1266 [==============================] - 3s 2ms/step - loss: 0.0017 - accuracy: 0.9997 - val_loss: 0.0533 - val_accuracy: 0.9898\n",
            "Epoch 4/20\n",
            "1266/1266 [==============================] - 3s 3ms/step - loss: 3.3241e-04 - accuracy: 1.0000 - val_loss: 0.0521 - val_accuracy: 0.9903\n",
            "Epoch 5/20\n",
            "1266/1266 [==============================] - 3s 3ms/step - loss: 1.0450e-04 - accuracy: 1.0000 - val_loss: 0.0525 - val_accuracy: 0.9902\n",
            "Epoch 6/20\n",
            "1266/1266 [==============================] - 3s 3ms/step - loss: 6.3849e-05 - accuracy: 1.0000 - val_loss: 0.0534 - val_accuracy: 0.9905\n",
            "Epoch 7/20\n",
            "1266/1266 [==============================] - 3s 3ms/step - loss: 0.0021 - accuracy: 0.9994 - val_loss: 0.0891 - val_accuracy: 0.9819\n",
            "Epoch 8/20\n",
            "1266/1266 [==============================] - 3s 2ms/step - loss: 0.0025 - accuracy: 0.9992 - val_loss: 0.0567 - val_accuracy: 0.9885\n",
            "Epoch 9/20\n",
            "1266/1266 [==============================] - 3s 2ms/step - loss: 2.4583e-04 - accuracy: 1.0000 - val_loss: 0.0540 - val_accuracy: 0.9899\n",
            "Epoch 10/20\n",
            "1266/1266 [==============================] - 3s 2ms/step - loss: 6.0019e-05 - accuracy: 1.0000 - val_loss: 0.0539 - val_accuracy: 0.9900\n",
            "Epoch 11/20\n",
            "1266/1266 [==============================] - 3s 3ms/step - loss: 4.2491e-05 - accuracy: 1.0000 - val_loss: 0.0546 - val_accuracy: 0.9901\n",
            "Epoch 12/20\n",
            "1266/1266 [==============================] - 3s 2ms/step - loss: 3.4758e-05 - accuracy: 1.0000 - val_loss: 0.0553 - val_accuracy: 0.9904\n",
            "Epoch 13/20\n",
            "1266/1266 [==============================] - 3s 2ms/step - loss: 2.4244e-05 - accuracy: 1.0000 - val_loss: 0.0567 - val_accuracy: 0.9898\n",
            "Epoch 14/20\n",
            "1266/1266 [==============================] - 3s 2ms/step - loss: 0.0044 - accuracy: 0.9986 - val_loss: 0.0610 - val_accuracy: 0.9891\n",
            "Epoch 15/20\n",
            "1266/1266 [==============================] - 3s 2ms/step - loss: 1.5754e-04 - accuracy: 1.0000 - val_loss: 0.0553 - val_accuracy: 0.9900\n",
            "Epoch 16/20\n",
            "1266/1266 [==============================] - 3s 2ms/step - loss: 5.3515e-05 - accuracy: 1.0000 - val_loss: 0.0552 - val_accuracy: 0.9901\n",
            "Epoch 17/20\n",
            "1266/1266 [==============================] - 3s 3ms/step - loss: 3.2925e-05 - accuracy: 1.0000 - val_loss: 0.0566 - val_accuracy: 0.9901\n",
            "Epoch 18/20\n",
            "1266/1266 [==============================] - 3s 2ms/step - loss: 2.2749e-05 - accuracy: 1.0000 - val_loss: 0.0568 - val_accuracy: 0.9902\n",
            "Epoch 19/20\n",
            "1266/1266 [==============================] - 3s 2ms/step - loss: 1.6232e-05 - accuracy: 1.0000 - val_loss: 0.0578 - val_accuracy: 0.9901\n",
            "Epoch 20/20\n",
            "1266/1266 [==============================] - 3s 2ms/step - loss: 1.1817e-05 - accuracy: 1.0000 - val_loss: 0.0584 - val_accuracy: 0.9902\n"
          ],
          "name": "stdout"
        }
      ]
    },
    {
      "cell_type": "code",
      "metadata": {
        "id": "l9lvQIXf9djX",
        "outputId": "5ac40a88-49c1-4096-dbb3-52a3bded81c4",
        "colab": {
          "base_uri": "https://localhost:8080/",
          "height": 734
        }
      },
      "source": [
        "modelo.fit(x_treino, y_treino, epochs=20, validation_split=0.25)"
      ],
      "execution_count": null,
      "outputs": [
        {
          "output_type": "stream",
          "text": [
            "Epoch 1/20\n",
            "1266/1266 [==============================] - 3s 3ms/step - loss: 8.6510e-06 - accuracy: 1.0000 - val_loss: 0.0597 - val_accuracy: 0.9904\n",
            "Epoch 2/20\n",
            "1266/1266 [==============================] - 3s 2ms/step - loss: 0.0032 - accuracy: 0.9990 - val_loss: 0.0820 - val_accuracy: 0.9844\n",
            "Epoch 3/20\n",
            "1266/1266 [==============================] - 3s 2ms/step - loss: 7.5985e-04 - accuracy: 0.9999 - val_loss: 0.0643 - val_accuracy: 0.9889\n",
            "Epoch 4/20\n",
            "1266/1266 [==============================] - 3s 2ms/step - loss: 3.8362e-05 - accuracy: 1.0000 - val_loss: 0.0631 - val_accuracy: 0.9890\n",
            "Epoch 5/20\n",
            "1266/1266 [==============================] - 3s 2ms/step - loss: 2.1739e-05 - accuracy: 1.0000 - val_loss: 0.0632 - val_accuracy: 0.9893\n",
            "Epoch 6/20\n",
            "1266/1266 [==============================] - 3s 3ms/step - loss: 1.4831e-05 - accuracy: 1.0000 - val_loss: 0.0628 - val_accuracy: 0.9892\n",
            "Epoch 7/20\n",
            "1266/1266 [==============================] - 3s 3ms/step - loss: 1.0471e-05 - accuracy: 1.0000 - val_loss: 0.0631 - val_accuracy: 0.9895\n",
            "Epoch 8/20\n",
            "1266/1266 [==============================] - 3s 3ms/step - loss: 7.3194e-06 - accuracy: 1.0000 - val_loss: 0.0637 - val_accuracy: 0.9896\n",
            "Epoch 9/20\n",
            "1266/1266 [==============================] - 3s 3ms/step - loss: 5.1966e-06 - accuracy: 1.0000 - val_loss: 0.0638 - val_accuracy: 0.9901\n",
            "Epoch 10/20\n",
            "1266/1266 [==============================] - 3s 2ms/step - loss: 3.7232e-06 - accuracy: 1.0000 - val_loss: 0.0645 - val_accuracy: 0.9896\n",
            "Epoch 11/20\n",
            "1266/1266 [==============================] - 3s 3ms/step - loss: 2.7196e-06 - accuracy: 1.0000 - val_loss: 0.0663 - val_accuracy: 0.9896\n",
            "Epoch 12/20\n",
            "1266/1266 [==============================] - 3s 2ms/step - loss: 0.0040 - accuracy: 0.9989 - val_loss: 0.0790 - val_accuracy: 0.9861\n",
            "Epoch 13/20\n",
            "1266/1266 [==============================] - 3s 2ms/step - loss: 8.9483e-04 - accuracy: 0.9998 - val_loss: 0.0687 - val_accuracy: 0.9878\n",
            "Epoch 14/20\n",
            "1266/1266 [==============================] - 3s 3ms/step - loss: 7.9897e-05 - accuracy: 1.0000 - val_loss: 0.0665 - val_accuracy: 0.9893\n",
            "Epoch 15/20\n",
            "1266/1266 [==============================] - 3s 2ms/step - loss: 1.8944e-05 - accuracy: 1.0000 - val_loss: 0.0663 - val_accuracy: 0.9890\n",
            "Epoch 16/20\n",
            "1266/1266 [==============================] - 3s 2ms/step - loss: 1.0946e-05 - accuracy: 1.0000 - val_loss: 0.0660 - val_accuracy: 0.9892\n",
            "Epoch 17/20\n",
            "1266/1266 [==============================] - 3s 2ms/step - loss: 7.6970e-06 - accuracy: 1.0000 - val_loss: 0.0663 - val_accuracy: 0.9895\n",
            "Epoch 18/20\n",
            "1266/1266 [==============================] - 3s 3ms/step - loss: 5.3525e-06 - accuracy: 1.0000 - val_loss: 0.0672 - val_accuracy: 0.9897\n",
            "Epoch 19/20\n",
            "1266/1266 [==============================] - 3s 3ms/step - loss: 3.7533e-06 - accuracy: 1.0000 - val_loss: 0.0671 - val_accuracy: 0.9895\n",
            "Epoch 20/20\n",
            "1266/1266 [==============================] - 3s 3ms/step - loss: 2.7386e-06 - accuracy: 1.0000 - val_loss: 0.0673 - val_accuracy: 0.9896\n"
          ],
          "name": "stdout"
        },
        {
          "output_type": "execute_result",
          "data": {
            "text/plain": [
              "<tensorflow.python.keras.callbacks.History at 0x7f58c9ff5668>"
            ]
          },
          "metadata": {
            "tags": []
          },
          "execution_count": 56
        }
      ]
    },
    {
      "cell_type": "markdown",
      "metadata": {
        "id": "f7qxN1jPgTIr"
      },
      "source": [
        "#Pra uma acertividade que precisa ser precisa e minimo detalhe pra erros otimizar o processamento e a maneira correta. Podemos pensar em uma rede que faz a predição para detectar cancer ou para algo bancario ,nao há margem para erros."
      ]
    },
    {
      "cell_type": "code",
      "metadata": {
        "id": "xY8iJUv1gx4u",
        "outputId": "0989f0c3-bff1-48c0-bf6b-91e64b9fe30d",
        "colab": {
          "base_uri": "https://localhost:8080/",
          "height": 265
        }
      },
      "source": [
        "pd.DataFrame(historico_melhorado.history).plot()\n",
        "plt.show()"
      ],
      "execution_count": null,
      "outputs": [
        {
          "output_type": "display_data",
          "data": {
            "image/png": "[encoded data removed]",
            "text/plain": [
              "<Figure size 432x288 with 1 Axes>"
            ]
          },
          "metadata": {
            "tags": [],
            "needs_background": "light"
          }
        }
      ]
    },
    {
      "cell_type": "markdown",
      "metadata": {
        "id": "UjEbWsGWowDO"
      },
      "source": [
        "Agora salvamos esse modelo treinado\n",
        "\n",
        "> Link sobre a como salvar esse modelo - [Aqui](https://keras.io/api/models/model_saving_apis/)\n",
        "\n"
      ]
    },
    {
      "cell_type": "code",
      "metadata": {
        "id": "A73_HxhbgiWX"
      },
      "source": [
        "from keras.models import load_model"
      ],
      "execution_count": null,
      "outputs": []
    },
    {
      "cell_type": "markdown",
      "metadata": {
        "id": "14mmsqSMzdIH"
      },
      "source": [
        "Aqui vemos quanto o modelo é preciso."
      ]
    },
    {
      "cell_type": "code",
      "metadata": {
        "id": "8OoplVtCO2Fb",
        "outputId": "bc736de7-f3e8-4162-f257-2108cfc888ec",
        "colab": {
          "base_uri": "https://localhost:8080/",
          "height": 51
        }
      },
      "source": [
        "modelo.evaluate(x_teste, y_teste)"
      ],
      "execution_count": null,
      "outputs": [
        {
          "output_type": "stream",
          "text": [
            "313/313 [==============================] - 1s 2ms/step - loss: 16.9490 - accuracy: 0.9720\n"
          ],
          "name": "stdout"
        },
        {
          "output_type": "execute_result",
          "data": {
            "text/plain": [
              "[16.949026107788086, 0.972000002861023]"
            ]
          },
          "metadata": {
            "tags": []
          },
          "execution_count": 75
        }
      ]
    },
    {
      "cell_type": "markdown",
      "metadata": {
        "id": "JeG6AlfqzYcP"
      },
      "source": [
        "##Abaixo vamos salvar o modelo e carrega-lo para pode usar"
      ]
    },
    {
      "cell_type": "code",
      "metadata": {
        "id": "rj45UTAnbtcq"
      },
      "source": [
        "modelo.save_weights('modelo1_treinado.h5')"
      ],
      "execution_count": null,
      "outputs": []
    },
    {
      "cell_type": "code",
      "metadata": {
        "id": "Wj88wGkOfWy7"
      },
      "source": [
        "modelo.load_weights('modelo1_treinado.h5')"
      ],
      "execution_count": null,
      "outputs": []
    },
    {
      "cell_type": "markdown",
      "metadata": {
        "id": "rpTo3WWl0Yf6"
      },
      "source": [
        "##Vamos importar as bibliotecas opencv = cv2\n",
        "[Saiba mais](https://opencv.org/)\n",
        "\n",
        "##Em seguida a blibioteca os que gerencia as files\n",
        "[Saiba mais](https://docs.python.org/pt-br/3/library/os.html)"
      ]
    },
    {
      "cell_type": "code",
      "metadata": {
        "id": "6kCgfBbbfokt"
      },
      "source": [
        "import cv2\n",
        "import os"
      ],
      "execution_count": null,
      "outputs": []
    },
    {
      "cell_type": "markdown",
      "metadata": {
        "id": "2nsY1AzazWky"
      },
      "source": [
        ""
      ]
    },
    {
      "cell_type": "markdown",
      "metadata": {
        "id": "bCqRp3L779PC"
      },
      "source": [
        ""
      ]
    },
    {
      "cell_type": "markdown",
      "metadata": {
        "id": "zTKYrIj-78-n"
      },
      "source": [
        ""
      ]
    },
    {
      "cell_type": "code",
      "metadata": {
        "id": "FhIOkueDfCTH",
        "outputId": "8a708c9b-1441-4240-c963-78ec5c72dcf0",
        "colab": {
          "base_uri": "https://localhost:8080/",
          "height": 322
        }
      },
      "source": [
        "img_pred = cv2.imread(\"cinco.png\", 0)\n",
        "plt.imshow(img_pred, cmap='gray')\n",
        "\n",
        "if img_pred.shape != [28,28]:\n",
        "    img2 = cv2.resize(img_pred, (28, 28))\n",
        "    img_pred = img2.reshape(28, 28, -1)\n",
        "else:\n",
        "    img_pred = img_pred.reshape(28, 28, -1)\n",
        "\n",
        "\n",
        "img_pred = img_pred.reshape(1, 1, 28, 28).astype('float32')\n",
        "\n",
        "img_pred = img_pred/255.0\n",
        "\n",
        "\n",
        "\n",
        "pred = modelo.predict_classes(img_pred)\n",
        "pred_proba = modelo.predict_proba(img_pred)\n",
        "pred_proba = \"%.2f%%\" % (pred_proba[0][pred]*100)\n",
        "print(pred[0], \" com confiança de \", pred_proba)"
      ],
      "execution_count": null,
      "outputs": [
        {
          "output_type": "stream",
          "text": [
            "WARNING:tensorflow:Model was constructed with shape (None, 28, 28) for input Tensor(\"flatten_3_input:0\", shape=(None, 28, 28), dtype=float32), but it was called on an input with incompatible shape (None, 1, 28, 28).\n",
            "5  com confiança de  98.86%\n"
          ],
          "name": "stdout"
        },
        {
          "output_type": "display_data",
          "data": {
            "image/png": "[encoded data removed]",
            "text/plain": [
              "<Figure size 432x288 with 1 Axes>"
            ]
          },
          "metadata": {
            "tags": [],
            "needs_background": "light"
          }
        }
      ]
    }
  ]
}